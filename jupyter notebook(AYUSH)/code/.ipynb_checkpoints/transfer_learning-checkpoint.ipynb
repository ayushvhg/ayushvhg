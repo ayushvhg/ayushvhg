{
 "cells": [
  {
   "cell_type": "code",
   "execution_count": 1,
   "id": "56192078",
   "metadata": {},
   "outputs": [],
   "source": [
    "#importing libraries\n",
    "import numpy as np\n",
    "import tensorflow as tf\n",
    "import tensorflow.keras as keras\n",
    "from tensorflow.keras.preprocessing.image import ImageDataGenerator\n",
    "from tensorflow.keras.callbacks import ReduceLROnPlateau\n",
    "from tensorflow.keras.models import Model, save_model\n",
    "\n",
    "import matplotlib.pyplot as plt\n",
    "import seaborn as sb\n",
    "\n",
    "from warnings import filterwarnings\n",
    "filterwarnings('ignore')"
   ]
  },
  {
   "cell_type": "markdown",
   "id": "57bbbde9",
   "metadata": {},
   "source": [
    "## Reading and Processing Data"
   ]
  },
  {
   "cell_type": "code",
   "execution_count": 2,
   "id": "4ed863e8",
   "metadata": {},
   "outputs": [],
   "source": [
    "#path of data set\n",
    "directory = \"../data\""
   ]
  },
  {
   "cell_type": "code",
   "execution_count": 3,
   "id": "0bc31008",
   "metadata": {},
   "outputs": [],
   "source": [
    "batch_size = 64\n",
    "IMG_SIZE = (224, 224, 3)"
   ]
  },
  {
   "cell_type": "code",
   "execution_count": 4,
   "id": "97742cac",
   "metadata": {},
   "outputs": [
    {
     "name": "stdout",
     "output_type": "stream",
     "text": [
      "Found 1835 files belonging to 30 classes.\n",
      "Using 1468 files for training.\n"
     ]
    }
   ],
   "source": [
    "#creating train data set\n",
    "train_ds = tf.keras.utils.image_dataset_from_directory(\n",
    "    directory,\n",
    "    labels='inferred',\n",
    "    label_mode='int',\n",
    "    class_names=None,\n",
    "    color_mode='rgb',\n",
    "    validation_split=0.2,\n",
    "    subset=\"training\",\n",
    "    seed=42,\n",
    "    image_size=(IMG_SIZE[0], IMG_SIZE[1]),\n",
    "    batch_size=batch_size,\n",
    "    shuffle=True,\n",
    "    )"
   ]
  },
  {
   "cell_type": "code",
   "execution_count": 5,
   "id": "2a13b95b",
   "metadata": {},
   "outputs": [
    {
     "name": "stdout",
     "output_type": "stream",
     "text": [
      "Found 1835 files belonging to 30 classes.\n",
      "Using 367 files for validation.\n"
     ]
    }
   ],
   "source": [
    "#creating train validation set\n",
    "validation_ds = tf.keras.utils.image_dataset_from_directory(\n",
    "    directory,\n",
    "    labels='inferred',\n",
    "    label_mode='int',\n",
    "    class_names=None,\n",
    "    color_mode='rgb',\n",
    "    validation_split=0.2,\n",
    "    subset=\"validation\",\n",
    "    seed=42,\n",
    "    image_size=(IMG_SIZE[0], IMG_SIZE[1]),\n",
    "    batch_size=batch_size,\n",
    "    shuffle=True\n",
    "    )"
   ]
  },
  {
   "cell_type": "code",
   "execution_count": 6,
   "id": "14168cae",
   "metadata": {},
   "outputs": [],
   "source": [
    "#getting the name of classes\n",
    "class_names = train_ds.class_names"
   ]
  },
  {
   "cell_type": "code",
   "execution_count": 7,
   "id": "c835f948",
   "metadata": {},
   "outputs": [
    {
     "ename": "FileNotFoundError",
     "evalue": "[Errno 2] No such file or directory: '../artifacts/class_names.npy'",
     "output_type": "error",
     "traceback": [
      "\u001b[1;31m---------------------------------------------------------------------------\u001b[0m",
      "\u001b[1;31mFileNotFoundError\u001b[0m                         Traceback (most recent call last)",
      "Cell \u001b[1;32mIn[7], line 2\u001b[0m\n\u001b[0;32m      1\u001b[0m \u001b[38;5;66;03m#saving class names\u001b[39;00m\n\u001b[1;32m----> 2\u001b[0m \u001b[43mnp\u001b[49m\u001b[38;5;241;43m.\u001b[39;49m\u001b[43msave\u001b[49m\u001b[43m(\u001b[49m\u001b[38;5;124;43m\"\u001b[39;49m\u001b[38;5;124;43m../artifacts/class_names.npy\u001b[39;49m\u001b[38;5;124;43m\"\u001b[39;49m\u001b[43m,\u001b[49m\u001b[43m \u001b[49m\u001b[43mclass_names\u001b[49m\u001b[43m)\u001b[49m\n",
      "File \u001b[1;32m~\\anaconda3\\lib\\site-packages\\numpy\\lib\\npyio.py:542\u001b[0m, in \u001b[0;36msave\u001b[1;34m(file, arr, allow_pickle, fix_imports)\u001b[0m\n\u001b[0;32m    540\u001b[0m     \u001b[38;5;28;01mif\u001b[39;00m \u001b[38;5;129;01mnot\u001b[39;00m file\u001b[38;5;241m.\u001b[39mendswith(\u001b[38;5;124m'\u001b[39m\u001b[38;5;124m.npy\u001b[39m\u001b[38;5;124m'\u001b[39m):\n\u001b[0;32m    541\u001b[0m         file \u001b[38;5;241m=\u001b[39m file \u001b[38;5;241m+\u001b[39m \u001b[38;5;124m'\u001b[39m\u001b[38;5;124m.npy\u001b[39m\u001b[38;5;124m'\u001b[39m\n\u001b[1;32m--> 542\u001b[0m     file_ctx \u001b[38;5;241m=\u001b[39m \u001b[38;5;28;43mopen\u001b[39;49m\u001b[43m(\u001b[49m\u001b[43mfile\u001b[49m\u001b[43m,\u001b[49m\u001b[43m \u001b[49m\u001b[38;5;124;43m\"\u001b[39;49m\u001b[38;5;124;43mwb\u001b[39;49m\u001b[38;5;124;43m\"\u001b[39;49m\u001b[43m)\u001b[49m\n\u001b[0;32m    544\u001b[0m \u001b[38;5;28;01mwith\u001b[39;00m file_ctx \u001b[38;5;28;01mas\u001b[39;00m fid:\n\u001b[0;32m    545\u001b[0m     arr \u001b[38;5;241m=\u001b[39m np\u001b[38;5;241m.\u001b[39masanyarray(arr)\n",
      "\u001b[1;31mFileNotFoundError\u001b[0m: [Errno 2] No such file or directory: '../artifacts/class_names.npy'"
     ]
    }
   ],
   "source": [
    "#saving class names\n",
    "np.save(\"../artifacts/class_names.npy\", class_names)"
   ]
  },
  {
   "cell_type": "code",
   "execution_count": null,
   "id": "f5e3f7dc",
   "metadata": {},
   "outputs": [],
   "source": [
    "NUM_CLASSES = 30"
   ]
  },
  {
   "cell_type": "markdown",
   "id": "b50def9b",
   "metadata": {},
   "source": [
    "## Sample of Training data"
   ]
  },
  {
   "cell_type": "code",
   "execution_count": null,
   "id": "e6da27c4",
   "metadata": {},
   "outputs": [],
   "source": [
    "plt.figure(figsize=(15, 10))\n",
    "for images, labels in train_ds.take(1):\n",
    "    for i in range(9):\n",
    "        ax = plt.subplot(3, 3, i + 1)\n",
    "        plt.imshow(images[i].numpy().astype(\"uint8\"))\n",
    "        plt.title(class_names[labels[i]])\n",
    "        plt.axis(\"off\")"
   ]
  },
  {
   "cell_type": "code",
   "execution_count": null,
   "id": "e3cf5c59",
   "metadata": {},
   "outputs": [],
   "source": [
    "#provides pipeling for reading data and training\n",
    "AUTOTUNE = tf.data.experimental.AUTOTUNE\n",
    "\n",
    "train_ds = train_ds.cache().prefetch(buffer_size=AUTOTUNE)\n",
    "validation_ds = validation_ds.cache().prefetch(buffer_size=AUTOTUNE)\n",
    "train_ds = train_ds.prefetch(buffer_size=AUTOTUNE)"
   ]
  },
  {
   "cell_type": "markdown",
   "id": "cdf111b2",
   "metadata": {},
   "source": [
    "## Modelling"
   ]
  },
  {
   "cell_type": "code",
   "execution_count": null,
   "id": "316eeecf",
   "metadata": {},
   "outputs": [],
   "source": [
    "# Create a data augmentation stage with horizontal flipping, rotations, zooms\n",
    "data_augmentation = keras.Sequential(\n",
    "    [\n",
    "        keras.layers.Rescaling(1./ 255),\n",
    "        keras.layers.RandomFlip(),\n",
    "        keras.layers.RandomRotation(0.2),\n",
    "        keras.layers.RandomZoom(0.2,0.3)\n",
    "    ]\n",
    ")"
   ]
  },
  {
   "cell_type": "markdown",
   "id": "38201ef6",
   "metadata": {},
   "source": [
    "## Using Pre-Trained ResNet50V2"
   ]
  },
  {
   "cell_type": "code",
   "execution_count": null,
   "id": "2e426233",
   "metadata": {},
   "outputs": [],
   "source": [
    "#ResNet50V2 layers except for the last global average pooling and final dense layer.\n",
    "pre_trained_layers = keras.applications.ResNet50V2(weights=\"imagenet\", include_top=False,\n",
    "           input_tensor=keras.Input(shape=IMG_SIZE))"
   ]
  },
  {
   "cell_type": "code",
   "execution_count": null,
   "id": "b468eb40",
   "metadata": {},
   "outputs": [],
   "source": [
    "pre_trained_layers.summary()"
   ]
  },
  {
   "cell_type": "code",
   "execution_count": null,
   "id": "8fd7e139",
   "metadata": {},
   "outputs": [],
   "source": [
    "#freezing the layers of ResNet\n",
    "pre_trained_layers.trainable = False"
   ]
  },
  {
   "cell_type": "code",
   "execution_count": null,
   "id": "d1b08370",
   "metadata": {},
   "outputs": [],
   "source": [
    "pre_trained_layers.summary()"
   ]
  },
  {
   "cell_type": "code",
   "execution_count": null,
   "id": "5a47e531",
   "metadata": {},
   "outputs": [],
   "source": [
    "#Creating custom model\n",
    "model = keras.Sequential([\n",
    "    data_augmentation,                                                    # data augmentations\n",
    "    pre_trained_layers,                                                   # ResNet pre-trained layers\n",
    "    keras.layers.GlobalAveragePooling2D(),                                # Adding Global average Pooling 2d\n",
    "    keras.layers.Dense(NUM_CLASSES, activation='softmax', name='output')  # Final Dense Layer with 30 neurons\n",
    "])"
   ]
  },
  {
   "cell_type": "code",
   "execution_count": null,
   "id": "2a71bef1",
   "metadata": {},
   "outputs": [],
   "source": [
    "EPOCHS = 20\n",
    "LR = 1e-3"
   ]
  },
  {
   "cell_type": "code",
   "execution_count": null,
   "id": "f8f44fae",
   "metadata": {},
   "outputs": [],
   "source": [
    "model.compile(optimizer=keras.optimizers.Adam(learning_rate=LR),\n",
    "              loss=tf.keras.losses.SparseCategoricalCrossentropy(),\n",
    "              metrics=['accuracy'])"
   ]
  },
  {
   "cell_type": "code",
   "execution_count": null,
   "id": "e8e8f859",
   "metadata": {},
   "outputs": [],
   "source": [
    "#printing summary of custom model\n",
    "model.build((1,224,224,3))\n",
    "model.summary()"
   ]
  },
  {
   "cell_type": "code",
   "execution_count": null,
   "id": "87f77f72",
   "metadata": {},
   "outputs": [],
   "source": [
    "# Callback -> Reduce Learning Rate on Plateau\n",
    "callback = ReduceLROnPlateau(monitor='val_loss', factor=0.1, patience=3, verbose=1, mode='auto',\n",
    "                             min_delta=0.0001, cooldown=0, min_lr=0.00001)"
   ]
  },
  {
   "cell_type": "code",
   "execution_count": null,
   "id": "932c369d",
   "metadata": {
    "scrolled": true
   },
   "outputs": [],
   "source": [
    "#training the model\n",
    "history = model.fit(train_ds, epochs=EPOCHS, validation_data=validation_ds, callbacks=callback)"
   ]
  },
  {
   "cell_type": "code",
   "execution_count": null,
   "id": "5d4a6d3a",
   "metadata": {},
   "outputs": [],
   "source": [
    "plt.title(\"Loss\", fontdict={'fontsize':18})\n",
    "plt.plot(history.history['loss'],label='train')\n",
    "plt.plot(history.history['val_loss'],label='test')\n",
    "plt.legend()\n",
    "plt.show()"
   ]
  },
  {
   "cell_type": "code",
   "execution_count": null,
   "id": "9bfc1eae",
   "metadata": {},
   "outputs": [],
   "source": [
    "plt.title(\"Accuracy\", fontdict={'fontsize':18})\n",
    "plt.plot(history.history['accuracy'],label='train')\n",
    "plt.plot(history.history['val_accuracy'],label='test')\n",
    "plt.legend()\n",
    "plt.show()"
   ]
  },
  {
   "cell_type": "markdown",
   "id": "811daff0",
   "metadata": {},
   "source": [
    "## Model Performance Analysis"
   ]
  },
  {
   "cell_type": "code",
   "execution_count": null,
   "id": "d4deb705",
   "metadata": {},
   "outputs": [],
   "source": [
    "from sklearn.metrics import classification_report, roc_curve, roc_auc_score\n",
    "import pandas as pd\n",
    "import plotly.graph_objects as go\n",
    "import plotly.express as px"
   ]
  },
  {
   "cell_type": "code",
   "execution_count": null,
   "id": "1a5b839c",
   "metadata": {},
   "outputs": [],
   "source": [
    "Y_train = []\n",
    "X_train = []"
   ]
  },
  {
   "cell_type": "code",
   "execution_count": null,
   "id": "deacd890",
   "metadata": {},
   "outputs": [],
   "source": [
    "for data in train_ds:\n",
    "    X_train.extend(data[0].numpy())\n",
    "    Y_train.extend(data[1].numpy())"
   ]
  },
  {
   "cell_type": "code",
   "execution_count": null,
   "id": "4a87377a",
   "metadata": {},
   "outputs": [],
   "source": [
    "Y_train = np.array(Y_train)\n",
    "X_train = np.array(X_train)"
   ]
  },
  {
   "cell_type": "code",
   "execution_count": null,
   "id": "1628093c",
   "metadata": {},
   "outputs": [],
   "source": [
    "y_train_pred_prob = model.predict(X_train)\n",
    "y_train_pred = [np.argmax(i) for i in y_train_pred_prob]"
   ]
  },
  {
   "cell_type": "code",
   "execution_count": null,
   "id": "f4d03638",
   "metadata": {},
   "outputs": [],
   "source": [
    "y_train_pred_prob.shape"
   ]
  },
  {
   "cell_type": "code",
   "execution_count": null,
   "id": "65d7e9ac",
   "metadata": {},
   "outputs": [],
   "source": [
    "#function to plot roc-auc curve\n",
    "def roc_auc_curve(y_scores, y_true):\n",
    "    # One hot encode the labels in order to plot them\n",
    "    y_onehot = pd.get_dummies(y_true, columns=class_names)\n",
    "\n",
    "    # Create an empty figure, and iteratively add new lines\n",
    "    # every time we compute a new class\n",
    "    fig = go.Figure()\n",
    "    fig.add_shape(\n",
    "        type='line', line=dict(dash='dash'),\n",
    "        x0=0, x1=1, y0=0, y1=1\n",
    "    )\n",
    "\n",
    "    for i in range(y_scores.shape[1]):\n",
    "        y_true = y_onehot.iloc[:, i]\n",
    "        y_score = y_scores[:, i]\n",
    "\n",
    "        fpr, tpr, _ = roc_curve(y_true, y_score)\n",
    "        auc_score = roc_auc_score(y_true, y_score)\n",
    "\n",
    "        name = f\"{class_names[i]} (AUC={auc_score:.2f})\"\n",
    "        fig.add_trace(go.Scatter(x=fpr, y=tpr, name=name, mode='lines'))\n",
    "\n",
    "    fig.update_layout(\n",
    "        title=\"ROC Curve\",\n",
    "        xaxis_title='False Positive Rate',\n",
    "        yaxis_title='True Positive Rate',\n",
    "        yaxis=dict(scaleanchor=\"x\", scaleratio=1),\n",
    "        xaxis=dict(constrain='domain'),\n",
    "        width=900, height=800\n",
    "    )\n",
    "    \n",
    "    return fig"
   ]
  },
  {
   "cell_type": "code",
   "execution_count": null,
   "id": "8daba89e",
   "metadata": {},
   "outputs": [],
   "source": [
    "plt.figure(figsize=(25,7))\n",
    "sb.heatmap(tf.math.confusion_matrix(labels=Y_train,predictions=y_train_pred),annot=True,fmt='.1f', cmap='hot_r')\n",
    "plt.xlabel('Predicted Values')\n",
    "plt.ylabel('Actual Values')\n",
    "plt.title('Confusion Matrix (Training)')\n",
    "plt.tight_layout()\n",
    "plt.show()"
   ]
  },
  {
   "cell_type": "code",
   "execution_count": null,
   "id": "ca7d7844",
   "metadata": {},
   "outputs": [],
   "source": [
    "print(\"Classification Report for Training\")\n",
    "print(classification_report(Y_train, y_train_pred))"
   ]
  },
  {
   "cell_type": "code",
   "execution_count": null,
   "id": "3ebfcd70",
   "metadata": {},
   "outputs": [],
   "source": [
    "roc_auc_curve(y_train_pred_prob, Y_train)"
   ]
  },
  {
   "cell_type": "code",
   "execution_count": null,
   "id": "0b1fd306",
   "metadata": {},
   "outputs": [],
   "source": [
    "X_test = []\n",
    "y_test = []"
   ]
  },
  {
   "cell_type": "code",
   "execution_count": null,
   "id": "7dfbfb20",
   "metadata": {},
   "outputs": [],
   "source": [
    "for data in validation_ds:\n",
    "    X_test.extend(data[0].numpy())\n",
    "    y_test.extend(data[1].numpy())"
   ]
  },
  {
   "cell_type": "code",
   "execution_count": null,
   "id": "412a7b0c",
   "metadata": {},
   "outputs": [],
   "source": [
    "X_test = np.array(X_test)\n",
    "y_test = np.array(y_test)"
   ]
  },
  {
   "cell_type": "code",
   "execution_count": null,
   "id": "04819af8",
   "metadata": {
    "scrolled": true
   },
   "outputs": [],
   "source": [
    "y_test_pred_prob = model.predict(X_test)\n",
    "y_test_pred = [np.argmax(i) for i in y_test_pred_prob]"
   ]
  },
  {
   "cell_type": "code",
   "execution_count": null,
   "id": "8fd63dbe",
   "metadata": {},
   "outputs": [],
   "source": [
    "np.unique(y_test)"
   ]
  },
  {
   "cell_type": "code",
   "execution_count": null,
   "id": "315f1384",
   "metadata": {
    "scrolled": true
   },
   "outputs": [],
   "source": [
    "plt.figure(figsize=(25,7))\n",
    "sb.heatmap(tf.math.confusion_matrix(labels=y_test,predictions=y_test_pred),annot=True,fmt='.1f', cmap='hot_r')\n",
    "plt.xlabel('Predicted Values')\n",
    "plt.ylabel('Actual Values')\n",
    "plt.title('Confusion Matrix')\n",
    "plt.tight_layout()\n",
    "plt.show()"
   ]
  },
  {
   "cell_type": "code",
   "execution_count": null,
   "id": "4408b626",
   "metadata": {},
   "outputs": [],
   "source": [
    "print(\"Classification Report for Test\")\n",
    "print(classification_report(y_test, y_test_pred))"
   ]
  },
  {
   "cell_type": "code",
   "execution_count": null,
   "id": "11c4eeee",
   "metadata": {},
   "outputs": [],
   "source": [
    "roc_auc_curve(y_test_pred_prob, y_test)"
   ]
  },
  {
   "cell_type": "markdown",
   "id": "70bd11b9",
   "metadata": {},
   "source": [
    "## Saving Model"
   ]
  },
  {
   "cell_type": "code",
   "execution_count": null,
   "id": "ebaa0272",
   "metadata": {},
   "outputs": [],
   "source": [
    "from tensorflow.keras.models import save_model"
   ]
  },
  {
   "cell_type": "code",
   "execution_count": null,
   "id": "83beed57",
   "metadata": {},
   "outputs": [],
   "source": [
    "save_model(model, '../Model/model.h5')"
   ]
  }
 ],
 "metadata": {
  "kernelspec": {
   "display_name": "Python 3 (ipykernel)",
   "language": "python",
   "name": "python3"
  },
  "language_info": {
   "codemirror_mode": {
    "name": "ipython",
    "version": 3
   },
   "file_extension": ".py",
   "mimetype": "text/x-python",
   "name": "python",
   "nbconvert_exporter": "python",
   "pygments_lexer": "ipython3",
   "version": "3.10.9"
  }
 },
 "nbformat": 4,
 "nbformat_minor": 5
}
